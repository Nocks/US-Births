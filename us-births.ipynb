{
 "cells": [
  {
   "cell_type": "code",
   "execution_count": 1,
   "metadata": {
    "collapsed": true
   },
   "outputs": [],
   "source": [
    "raw_data = open(\"US_births_1994-2003_CDC_NCHS.csv\", \"r\").read()"
   ]
  },
  {
   "cell_type": "code",
   "execution_count": 3,
   "metadata": {
    "collapsed": false,
    "scrolled": true
   },
   "outputs": [
    {
     "data": {
      "text/plain": [
       "[['1994', '1', '1', '6', '8096'],\n",
       " ['1994', '1', '2', '7', '7772'],\n",
       " ['1994', '1', '3', '1', '10142'],\n",
       " ['1994', '1', '4', '2', '11248'],\n",
       " ['1994', '1', '5', '3', '11053'],\n",
       " ['1994', '1', '6', '4', '11406'],\n",
       " ['1994', '1', '7', '5', '11251'],\n",
       " ['1994', '1', '8', '6', '8653'],\n",
       " ['1994', '1', '9', '7', '7910'],\n",
       " ['1994', '1', '10', '1', '10498']]"
      ]
     },
     "execution_count": 3,
     "metadata": {},
     "output_type": "execute_result"
    }
   ],
   "source": [
    "raw_data = raw_data.split(\"\\n\")\n",
    "# Take off the headers of the file.\n",
    "birth_details = raw_data[1:]\n",
    "birth_data = []\n",
    "for data in birth_details:\n",
    "    bd = data.split(\",\")\n",
    "    birth_data.append(bd)\n",
    "\n",
    "birth_data[:10]\n"
   ]
  },
  {
   "cell_type": "code",
   "execution_count": 4,
   "metadata": {
    "collapsed": true
   },
   "outputs": [],
   "source": [
    "def read_csv(birth_data_file):\n",
    "    \"\"\"Takes a string representing the file name of the CSV file.\n",
    "       Reads the file into a string, splits the string on the newline character (\"\\n\"), \n",
    "       and removes the header row. Assign this list to string_list and create an empty list named\n",
    "       final_list\"\"\"\n",
    "    raw_data = open(birth_data_file, \"r\").read()\n",
    "    raw_data = raw_data.split(\"\\n\")\n",
    "    string_list = raw_data[1:]\n",
    "    final_list = []\n",
    "    for data in string_list:\n",
    "        int_fields = []\n",
    "        string_fields = data.split(\",\")\n",
    "        for string_field in string_fields:\n",
    "            field = int(string_field)\n",
    "            int_fields.append(field)\n",
    "        final_list.append(int_fields)\n",
    "    return(final_list)\n",
    "    "
   ]
  },
  {
   "cell_type": "markdown",
   "metadata": {},
   "source": [
    "Use the read_csv() function to read in the file **\"US_births_1994-2003_CDC_NCHS.csv\"** and assign the result to cdc_list."
   ]
  },
  {
   "cell_type": "code",
   "execution_count": 5,
   "metadata": {
    "collapsed": true
   },
   "outputs": [],
   "source": [
    "cdc_list = read_csv(birth_data_file=\"US_births_1994-2003_CDC_NCHS.csv\")"
   ]
  },
  {
   "cell_type": "markdown",
   "metadata": {},
   "source": [
    "Display the first 10 rows of **cdc_list** to confirm it's a list of lists, containing only integer values, and no header row."
   ]
  },
  {
   "cell_type": "code",
   "execution_count": 6,
   "metadata": {
    "collapsed": false
   },
   "outputs": [
    {
     "data": {
      "text/plain": [
       "[[1994, 1, 1, 6, 8096],\n",
       " [1994, 1, 2, 7, 7772],\n",
       " [1994, 1, 3, 1, 10142],\n",
       " [1994, 1, 4, 2, 11248],\n",
       " [1994, 1, 5, 3, 11053],\n",
       " [1994, 1, 6, 4, 11406],\n",
       " [1994, 1, 7, 5, 11251],\n",
       " [1994, 1, 8, 6, 8653],\n",
       " [1994, 1, 9, 7, 7910],\n",
       " [1994, 1, 10, 1, 10498]]"
      ]
     },
     "execution_count": 6,
     "metadata": {},
     "output_type": "execute_result"
    }
   ],
   "source": [
    "cdc_list[:10]"
   ]
  },
  {
   "cell_type": "markdown",
   "metadata": {},
   "source": [
    "Now that the data is in a more usable format, we can start to analyze it. \n",
    "Let's calculate the total number of births that occured in each month, across all of the years in the dataset. \n",
    "We'll create a dictionary where each key is a unique month and each value is the number of births that happened in that month, across all years."
   ]
  },
  {
   "cell_type": "code",
   "execution_count": 7,
   "metadata": {
    "collapsed": true
   },
   "outputs": [],
   "source": [
    "def month_births(birth_data_list):\n",
    "    births_per_month = {}\n",
    "    for instance in birth_data_list:\n",
    "        month = instance[1]\n",
    "        births  = instance[4]\n",
    "        if month in births_per_month.keys():\n",
    "            births_per_month[month] += births\n",
    "        else:\n",
    "            births_per_month[month] = births\n",
    "    return(births_per_month)"
   ]
  },
  {
   "cell_type": "markdown",
   "metadata": {},
   "source": [
    "Use the **month_births()** function to calculate the monthly totals for the dataset and assign the result to **cdc_month_births**. Display the dictionary."
   ]
  },
  {
   "cell_type": "code",
   "execution_count": 8,
   "metadata": {
    "collapsed": false
   },
   "outputs": [
    {
     "data": {
      "text/plain": [
       "{1: 3232517,\n",
       " 2: 3018140,\n",
       " 3: 3322069,\n",
       " 4: 3185314,\n",
       " 5: 3350907,\n",
       " 6: 3296530,\n",
       " 7: 3498783,\n",
       " 8: 3525858,\n",
       " 9: 3439698,\n",
       " 10: 3378814,\n",
       " 11: 3171647,\n",
       " 12: 3301860}"
      ]
     },
     "execution_count": 8,
     "metadata": {},
     "output_type": "execute_result"
    }
   ],
   "source": [
    "cdc_month_births = month_births(cdc_list)\n",
    "cdc_month_births"
   ]
  },
  {
   "cell_type": "markdown",
   "metadata": {},
   "source": [
    "Now create a function that calculates the total number of births for each unique day of the week."
   ]
  },
  {
   "cell_type": "code",
   "execution_count": 9,
   "metadata": {
    "collapsed": true
   },
   "outputs": [],
   "source": [
    "def dow_births(birth_data_list):\n",
    "    births_per_week = {}\n",
    "    for instance in birth_data_list:\n",
    "        week = instance[3]\n",
    "        births  = instance[4]\n",
    "        if week in births_per_week.keys():\n",
    "            births_per_week[week] += births\n",
    "        else:\n",
    "            births_per_week[week] = births\n",
    "    return(births_per_week)"
   ]
  },
  {
   "cell_type": "markdown",
   "metadata": {},
   "source": [
    "Use the **dow_births()** function to return the day-of-week totals for the dataset and assign the result to **cdc_day_births**. Display the dictionary."
   ]
  },
  {
   "cell_type": "code",
   "execution_count": 10,
   "metadata": {
    "collapsed": false
   },
   "outputs": [
    {
     "data": {
      "text/plain": [
       "{1: 5789166,\n",
       " 2: 6446196,\n",
       " 3: 6322855,\n",
       " 4: 6288429,\n",
       " 5: 6233657,\n",
       " 6: 4562111,\n",
       " 7: 4079723}"
      ]
     },
     "execution_count": 10,
     "metadata": {},
     "output_type": "execute_result"
    }
   ],
   "source": [
    "cdc_day_births = dow_births(cdc_list)\n",
    "cdc_day_births"
   ]
  },
  {
   "cell_type": "markdown",
   "metadata": {},
   "source": [
    "A function that works for any column of the dataset. We'll specify the column we want as a parameter each time we call the function."
   ]
  },
  {
   "cell_type": "code",
   "execution_count": 11,
   "metadata": {
    "collapsed": true
   },
   "outputs": [],
   "source": [
    "def calc_counts(data, column):\n",
    "    births_counts = {}\n",
    "    if not column > 0 and column <= 4:\n",
    "        return(\"'column' must be either 1, 2, 3, or 4\")\n",
    "    else:\n",
    "        for instance in data:\n",
    "            field = instance[column-1]\n",
    "            births  = instance[4]\n",
    "            if field in births_counts.keys():\n",
    "                births_counts[field] += births\n",
    "            else:\n",
    "                births_counts[field] = births\n",
    "        return(births_counts)"
   ]
  },
  {
   "cell_type": "markdown",
   "metadata": {},
   "source": [
    "Return the yearly totals for the dataset and assign the result to **cdc_year_births**."
   ]
  },
  {
   "cell_type": "code",
   "execution_count": 12,
   "metadata": {
    "collapsed": false
   },
   "outputs": [
    {
     "data": {
      "text/plain": [
       "{1994: 3952767,\n",
       " 1995: 3899589,\n",
       " 1996: 3891494,\n",
       " 1997: 3880894,\n",
       " 1998: 3941553,\n",
       " 1999: 3959417,\n",
       " 2000: 4058814,\n",
       " 2001: 4025933,\n",
       " 2002: 4021726,\n",
       " 2003: 4089950}"
      ]
     },
     "execution_count": 12,
     "metadata": {},
     "output_type": "execute_result"
    }
   ],
   "source": [
    "cdc_year_births = calc_counts(cdc_list, 1)\n",
    "cdc_year_births"
   ]
  },
  {
   "cell_type": "markdown",
   "metadata": {},
   "source": [
    "Return the monthly totals for the dataset and assign the result to **cdc_month_births**."
   ]
  },
  {
   "cell_type": "code",
   "execution_count": 13,
   "metadata": {
    "collapsed": false
   },
   "outputs": [
    {
     "data": {
      "text/plain": [
       "{1: 3232517,\n",
       " 2: 3018140,\n",
       " 3: 3322069,\n",
       " 4: 3185314,\n",
       " 5: 3350907,\n",
       " 6: 3296530,\n",
       " 7: 3498783,\n",
       " 8: 3525858,\n",
       " 9: 3439698,\n",
       " 10: 3378814,\n",
       " 11: 3171647,\n",
       " 12: 3301860}"
      ]
     },
     "execution_count": 13,
     "metadata": {},
     "output_type": "execute_result"
    }
   ],
   "source": [
    "cdc_month_births = calc_counts(cdc_list, 2)\n",
    "cdc_month_births"
   ]
  },
  {
   "cell_type": "markdown",
   "metadata": {},
   "source": [
    "Return the day-of-month totals for the dataset and assign the result to **cdc_dom_births**."
   ]
  },
  {
   "cell_type": "code",
   "execution_count": 14,
   "metadata": {
    "collapsed": false
   },
   "outputs": [
    {
     "data": {
      "text/plain": [
       "{1: 1276557,\n",
       " 2: 1288739,\n",
       " 3: 1304499,\n",
       " 4: 1288154,\n",
       " 5: 1299953,\n",
       " 6: 1304474,\n",
       " 7: 1310459,\n",
       " 8: 1312297,\n",
       " 9: 1303292,\n",
       " 10: 1320764,\n",
       " 11: 1314361,\n",
       " 12: 1318437,\n",
       " 13: 1277684,\n",
       " 14: 1320153,\n",
       " 15: 1319171,\n",
       " 16: 1315192,\n",
       " 17: 1324953,\n",
       " 18: 1326855,\n",
       " 19: 1318727,\n",
       " 20: 1324821,\n",
       " 21: 1322897,\n",
       " 22: 1317381,\n",
       " 23: 1293290,\n",
       " 24: 1288083,\n",
       " 25: 1272116,\n",
       " 26: 1284796,\n",
       " 27: 1294395,\n",
       " 28: 1307685,\n",
       " 29: 1223161,\n",
       " 30: 1202095,\n",
       " 31: 746696}"
      ]
     },
     "execution_count": 14,
     "metadata": {},
     "output_type": "execute_result"
    }
   ],
   "source": [
    "cdc_dom_births = calc_counts(cdc_list, 3)\n",
    "cdc_dom_births"
   ]
  },
  {
   "cell_type": "markdown",
   "metadata": {},
   "source": [
    "Return the day-of-week totals for the dataset and assign the result to **cdc_dow_births**."
   ]
  },
  {
   "cell_type": "code",
   "execution_count": 15,
   "metadata": {
    "collapsed": false
   },
   "outputs": [
    {
     "data": {
      "text/plain": [
       "{1: 5789166,\n",
       " 2: 6446196,\n",
       " 3: 6322855,\n",
       " 4: 6288429,\n",
       " 5: 6233657,\n",
       " 6: 4562111,\n",
       " 7: 4079723}"
      ]
     },
     "execution_count": 15,
     "metadata": {},
     "output_type": "execute_result"
    }
   ],
   "source": [
    "cdc_dow_births = calc_counts(cdc_list, 4)\n",
    "cdc_dow_births"
   ]
  },
  {
   "cell_type": "markdown",
   "metadata": {},
   "source": [
    "Write a function that can calculate the min and max values for any dictionary that's passed in."
   ]
  },
  {
   "cell_type": "code",
   "execution_count": 16,
   "metadata": {
    "collapsed": true
   },
   "outputs": [],
   "source": [
    "def check_min_max(birth_details):\n",
    "    min_value = 0\n",
    "    max_value = 0\n",
    "    min_value = min(birth_details.values())\n",
    "    max_value = max(birth_details.values())\n",
    "    return(\"Minimum: {} and Maximum: {}\".format(min_value, max_value))"
   ]
  },
  {
   "cell_type": "markdown",
   "metadata": {},
   "source": [
    "Check the minimum and maximum birth using the **cdc_dow_births** dictionary"
   ]
  },
  {
   "cell_type": "code",
   "execution_count": 17,
   "metadata": {
    "collapsed": false
   },
   "outputs": [
    {
     "data": {
      "text/plain": [
       "'Minimum: 4079723 and Maximum: 6446196'"
      ]
     },
     "execution_count": 17,
     "metadata": {},
     "output_type": "execute_result"
    }
   ],
   "source": [
    "check_min_max(cdc_dow_births)"
   ]
  },
  {
   "cell_type": "markdown",
   "metadata": {},
   "source": [
    "Write a function that extracts the same values across years and calculates the differences between consecutive values to show if number of births is increasing or decreasing."
   ]
  },
  {
   "cell_type": "code",
   "execution_count": 20,
   "metadata": {
    "collapsed": true
   },
   "outputs": [],
   "source": [
    "def check_birth_growth(birth_data_file):\n",
    "    cdc_list = read_csv(birth_data_file)\n",
    "    cdc_year_births = calc_counts(cdc_list, 1)\n",
    "    previous_year_birth = 0\n",
    "    previous_birth_diff = 0\n",
    "    for year, total_births in cdc_year_births.items():\n",
    "        current_year_birth = int(total_births)\n",
    "        if previous_year_birth == 0:\n",
    "            growth_status = \"Growth of births in {} not available.\".format(year)\n",
    "            print(growth_status)\n",
    "            previous_year_birth = current_year_birth\n",
    "        else:\n",
    "            if current_year_birth > previous_year_birth:\n",
    "                growth_status = \"Births increased in {}.\".format(year)\n",
    "                print(growth_status)\n",
    "                previous_year_birth = current_year_birth\n",
    "            elif current_year_birth < previous_year_birth:\n",
    "                growth_status = \"Births decreased in {}.\".format(year)\n",
    "                print(growth_status)\n",
    "                previous_year_birth = current_year_birth\n",
    "            elif current_year_birth == previous_year_birth:\n",
    "                growth_status = \"Births in {} was same as previous year.\".format(year)\n",
    "                print(growth_status)\n",
    "                previous_year_birth = current_year_birth"
   ]
  },
  {
   "cell_type": "code",
   "execution_count": 21,
   "metadata": {
    "collapsed": false
   },
   "outputs": [
    {
     "name": "stdout",
     "output_type": "stream",
     "text": [
      "Growth of births in 1994 not available.\n",
      "Births decreased in 1995.\n",
      "Births decreased in 1996.\n",
      "Births decreased in 1997.\n",
      "Births increased in 1998.\n",
      "Births increased in 1999.\n",
      "Births increased in 2000.\n",
      "Births decreased in 2001.\n",
      "Births decreased in 2002.\n",
      "Births increased in 2003.\n"
     ]
    }
   ],
   "source": [
    "check_birth_growth(birth_data_file=\"US_births_1994-2003_CDC_NCHS.csv\")"
   ]
  }
 ],
 "metadata": {
  "kernelspec": {
   "display_name": "Python 3",
   "language": "python",
   "name": "python3"
  },
  "language_info": {
   "codemirror_mode": {
    "name": "ipython",
    "version": 3
   },
   "file_extension": ".py",
   "mimetype": "text/x-python",
   "name": "python",
   "nbconvert_exporter": "python",
   "pygments_lexer": "ipython3",
   "version": "3.6.0"
  }
 },
 "nbformat": 4,
 "nbformat_minor": 2
}
